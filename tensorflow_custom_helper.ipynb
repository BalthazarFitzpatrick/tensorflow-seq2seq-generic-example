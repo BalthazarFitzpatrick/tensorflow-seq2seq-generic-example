{
 "cells": [
  {
   "cell_type": "markdown",
   "metadata": {},
   "source": [
    "## import statements"
   ]
  },
  {
   "cell_type": "code",
   "execution_count": 1,
   "metadata": {},
   "outputs": [
    {
     "name": "stderr",
     "output_type": "stream",
     "text": [
      "/usr/local/Cellar/python3/3.5.2_3/Frameworks/Python.framework/Versions/3.5/lib/python3.5/importlib/_bootstrap.py:222: RuntimeWarning: compiletime version 3.6 of module 'tensorflow.python.framework.fast_tensor_util' does not match runtime version 3.5\n",
      "  return f(*args, **kwds)\n"
     ]
    }
   ],
   "source": [
    "# TensorFlow\n",
    "import tensorflow as tf"
   ]
  },
  {
   "cell_type": "markdown",
   "metadata": {},
   "source": [
    "## set sample"
   ]
  },
  {
   "cell_type": "code",
   "execution_count": 2,
   "metadata": {},
   "outputs": [],
   "source": [
    "batch_size = 5\n",
    "features_dec_inp = 2\n",
    "go_token = -1\n",
    "end_token = 2\n",
    "sess = tf.InteractiveSession()"
   ]
  },
  {
   "cell_type": "markdown",
   "metadata": {},
   "source": [
    "## Test Tensor Shapes"
   ]
  },
  {
   "cell_type": "code",
   "execution_count": 4,
   "metadata": {},
   "outputs": [
    {
     "name": "stdout",
     "output_type": "stream",
     "text": [
      "Tensor(\"Tile:0\", shape=(5,), dtype=bool)\n",
      "[False False False False False]\n",
      "\n",
      "Tensor(\"Fill:0\", shape=(5, 2), dtype=int32)\n",
      "[[-1 -1]\n",
      " [-1 -1]\n",
      " [-1 -1]\n",
      " [-1 -1]\n",
      " [-1 -1]]\n",
      "\n"
     ]
    }
   ],
   "source": [
    "test_finished = tf.tile([False], [batch_size])\n",
    "print(test_finished)\n",
    "print(test_finished.eval())\n",
    "print(\"\")\n",
    "\n",
    "test_start_inputs = tf.fill([batch_size, features_dec_inp], go_token)\n",
    "print(test_start_inputs)\n",
    "print(test_start_inputs.eval())\n",
    "print(\"\")"
   ]
  },
  {
   "cell_type": "code",
   "execution_count": 5,
   "metadata": {},
   "outputs": [],
   "source": [
    "def initialize_fn():\n",
    "    finished = tf.tile([False], [batch_size])\n",
    "    start_inputs = tf.fill([batch_size, features_dec_inp], go_token)\n",
    "    return (finished, start_inputs)\n",
    "\n",
    "def next_inputs_fn(time, outputs, state, sample_ids):\n",
    "    del time, sample_ids\n",
    "    \n",
    "    # finished needs to update after last step.\n",
    "    # one could use conditional logic based on sequence length\n",
    "    # if sequence length is known in advance\n",
    "    finished = tf.tile([False], [batch_size])\n",
    "    \n",
    "    # next inputs should be the output of the dense layer\n",
    "    # unless the above finished logic returns [True]\n",
    "    # in which case next inputs can be anything in the right shape\n",
    "    next_inputs = tf.fill([batch_size, features_dec_inp], 0.5)\n",
    "    \n",
    "    return (finished, next_inputs, state)\n",
    "\n",
    "helper = tf.contrib.seq2seq.CustomHelper(\n",
    "    initialize_fn = initialize_fn,\n",
    "    sample_fn = tf.identity,                      \n",
    "    next_inputs_fn = next_inputs_fn)"
   ]
  }
 ],
 "metadata": {
  "kernelspec": {
   "display_name": "Python 3",
   "language": "python",
   "name": "python3"
  },
  "language_info": {
   "codemirror_mode": {
    "name": "ipython",
    "version": 3
   },
   "file_extension": ".py",
   "mimetype": "text/x-python",
   "name": "python",
   "nbconvert_exporter": "python",
   "pygments_lexer": "ipython3",
   "version": "3.5.2"
  }
 },
 "nbformat": 4,
 "nbformat_minor": 2
}
